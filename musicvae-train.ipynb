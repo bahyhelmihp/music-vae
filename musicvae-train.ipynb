{
 "cells": [
  {
   "cell_type": "markdown",
   "id": "cebfefb8-3a1e-4fae-a8e0-b223be48c163",
   "metadata": {},
   "source": [
    "##### Candidate Name: Putra Bahy Helmi Hartoyo\n",
    "##### Candidate Email: bahyhelmi97@gmail.com\n",
    "\n",
    "- This notebook is written to fulfill the assesment task of PozaLabs in creating music samples from MusicVAE architecture using MIDI dataset.\n",
    "- This notebook adopt the method available on the official GitHub repository of MusicVAE: https://github.com/magenta/magenta/tree/main/magenta/models/music_vae#training-your-own-musicvae"
   ]
  },
  {
   "cell_type": "markdown",
   "id": "085a2378-3c2e-438a-ac33-180b3897edbe",
   "metadata": {},
   "source": [
    "#### Import Libraries"
   ]
  },
  {
   "cell_type": "code",
   "execution_count": 2,
   "id": "215bdef3-3aea-4b8b-842e-615a097b5200",
   "metadata": {},
   "outputs": [],
   "source": [
    "# Import necessary libraries\n",
    "import tensorflow as tf\n",
    "import tensorflow_datasets as tfds"
   ]
  },
  {
   "cell_type": "code",
   "execution_count": 4,
   "id": "63478413-17df-4a09-b14d-6d7b542208fe",
   "metadata": {},
   "outputs": [
    {
     "data": {
      "text/plain": [
       "[PhysicalDevice(name='/physical_device:GPU:0', device_type='GPU'),\n",
       " PhysicalDevice(name='/physical_device:GPU:1', device_type='GPU')]"
      ]
     },
     "execution_count": 4,
     "metadata": {},
     "output_type": "execute_result"
    }
   ],
   "source": [
    "# Check for GPUs\n",
    "gpus = tf.config.list_physical_devices('GPU')\n",
    "gpus"
   ]
  },
  {
   "cell_type": "markdown",
   "id": "903654db-b851-4b8c-8881-2153c61027d2",
   "metadata": {},
   "source": [
    "#### Training VAE\n",
    "- We can utilize the **GrooVAE model** from magenta to train the model.\n",
    "- GrooVAE is the **variant of MusicVAE** which specifically designed for training using the drum performances data in MIDI dataset."
   ]
  },
  {
   "cell_type": "code",
   "execution_count": 5,
   "id": "4ca9a08d-ff9e-4f4a-8a20-57f4f118951b",
   "metadata": {},
   "outputs": [
    {
     "data": {
      "text/html": [
       "\n",
       "      <iframe id=\"tensorboard-frame-3e348ff5fba0e5c4\" width=\"100%\" height=\"800\" frameborder=\"0\">\n",
       "      </iframe>\n",
       "      <script>\n",
       "        (function() {\n",
       "          const frame = document.getElementById(\"tensorboard-frame-3e348ff5fba0e5c4\");\n",
       "          const url = new URL(\"/\", window.location);\n",
       "          const port = 6006;\n",
       "          if (port) {\n",
       "            url.port = port;\n",
       "          }\n",
       "          frame.src = url;\n",
       "        })();\n",
       "      </script>\n",
       "    "
      ],
      "text/plain": [
       "<IPython.core.display.HTML object>"
      ]
     },
     "metadata": {},
     "output_type": "display_data"
    }
   ],
   "source": [
    "# Setup Tensorboard to monitor training metrics\n",
    "%load_ext tensorboard\n",
    "%tensorboard --logdir=ckpts/groove-4-bar/train"
   ]
  },
  {
   "cell_type": "code",
   "execution_count": null,
   "id": "560b31b6-e3ea-477b-9e97-4248dc3c64ef",
   "metadata": {
    "scrolled": true,
    "tags": []
   },
   "outputs": [],
   "source": [
    "# We will use the 4-bar (drum) configs, as instructed\n",
    "# Training using default params, except for the number of global steps\n",
    "\n",
    "!python3 ./magenta/magenta/models/music_vae/music_vae_train.py \\\n",
    "    --config=\"groovae_4bar\" \\\n",
    "    --run_dir=\"ckpts/groove-4-bar\" \\\n",
    "    --mode=\"train\" \\\n",
    "    --tfds_name=\"groove/4bar-midionly\" \\\n",
    "    --cache_dataset=True \\\n",
    "    --num_steps=10000"
   ]
  }
 ],
 "metadata": {
  "kernelspec": {
   "display_name": "test",
   "language": "python",
   "name": "test"
  },
  "language_info": {
   "codemirror_mode": {
    "name": "ipython",
    "version": 3
   },
   "file_extension": ".py",
   "mimetype": "text/x-python",
   "name": "python",
   "nbconvert_exporter": "python",
   "pygments_lexer": "ipython3",
   "version": "3.7.16"
  }
 },
 "nbformat": 4,
 "nbformat_minor": 5
}
